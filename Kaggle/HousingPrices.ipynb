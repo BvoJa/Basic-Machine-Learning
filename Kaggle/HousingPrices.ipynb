{
 "cells": [
  {
   "cell_type": "code",
   "execution_count": 28,
   "id": "024c099a-8ccc-496d-8ca3-cf7ea85904be",
   "metadata": {},
   "outputs": [],
   "source": [
    "import pandas as pd \n",
    "import matplotlib.pyplot as plt \n",
    "from sklearn.tree import DecisionTreeRegressor"
   ]
  },
  {
   "cell_type": "code",
   "execution_count": 29,
   "id": "3a55453e-662d-4d9c-941c-9817594b49b7",
   "metadata": {},
   "outputs": [
    {
     "name": "stderr",
     "output_type": "stream",
     "text": [
      "<>:1: SyntaxWarning: invalid escape sequence '\\D'\n",
      "<>:1: SyntaxWarning: invalid escape sequence '\\D'\n",
      "C:\\Users\\ASUS Zenbook\\AppData\\Local\\Temp\\ipykernel_18548\\3125704082.py:1: SyntaxWarning: invalid escape sequence '\\D'\n",
      "  data = pd.read_csv(\"D:\\Download\\melb_data.csv\")\n"
     ]
    }
   ],
   "source": [
    "data = pd.read_csv(\"D:\\Download\\melb_data.csv\")\n",
    "data = data.dropna(axis = 0)\n",
    "features = ['Rooms', 'Bathroom', 'Landsize', 'BuildingArea', 'YearBuilt', 'Lattitude', 'Longtitude']\n",
    "X = data[features]\n",
    "y = data.Price"
   ]
  },
  {
   "cell_type": "code",
   "execution_count": 30,
   "id": "945025ef-c5db-4745-b54d-93a6c76cb4f6",
   "metadata": {},
   "outputs": [
    {
     "name": "stdout",
     "output_type": "stream",
     "text": [
      "434.71594577146544\n"
     ]
    }
   ],
   "source": [
    "from sklearn.metrics import mean_absolute_error\n",
    "Model = DecisionTreeRegressor()\n",
    "Model.fit(X, y)\n",
    "print(mean_absolute_error(y, Model.predict(X)))"
   ]
  },
  {
   "cell_type": "code",
   "execution_count": null,
   "id": "e2d375c7-80d3-4835-84f4-14b12f387ad0",
   "metadata": {},
   "outputs": [],
   "source": []
  }
 ],
 "metadata": {
  "kernelspec": {
   "display_name": "Python 3 (ipykernel)",
   "language": "python",
   "name": "python3"
  },
  "language_info": {
   "codemirror_mode": {
    "name": "ipython",
    "version": 3
   },
   "file_extension": ".py",
   "mimetype": "text/x-python",
   "name": "python",
   "nbconvert_exporter": "python",
   "pygments_lexer": "ipython3",
   "version": "3.13.0"
  }
 },
 "nbformat": 4,
 "nbformat_minor": 5
}
